{
 "cells": [
  {
   "cell_type": "code",
   "execution_count": 7,
   "metadata": {},
   "outputs": [
    {
     "name": "stdout",
     "output_type": "stream",
     "text": [
      "Requirement already satisfied: pandas in c:\\users\\bageg\\desktop\\10 academy\\financial-news-and-stock-price-integration\\venv\\lib\\site-packages (2.2.2)\n",
      "Collecting matplotlib\n",
      "  Using cached matplotlib-3.8.4-cp39-cp39-win_amd64.whl (7.7 MB)\n",
      "Requirement already satisfied: yfinance in c:\\users\\bageg\\desktop\\10 academy\\financial-news-and-stock-price-integration\\venv\\lib\\site-packages (0.2.38)\n",
      "Requirement already satisfied: numpy>=1.22.4 in c:\\users\\bageg\\desktop\\10 academy\\financial-news-and-stock-price-integration\\venv\\lib\\site-packages (from pandas) (1.26.4)\n",
      "Requirement already satisfied: tzdata>=2022.7 in c:\\users\\bageg\\desktop\\10 academy\\financial-news-and-stock-price-integration\\venv\\lib\\site-packages (from pandas) (2024.1)\n",
      "Requirement already satisfied: pytz>=2020.1 in c:\\users\\bageg\\desktop\\10 academy\\financial-news-and-stock-price-integration\\venv\\lib\\site-packages (from pandas) (2024.1)\n",
      "Requirement already satisfied: python-dateutil>=2.8.2 in c:\\users\\bageg\\desktop\\10 academy\\financial-news-and-stock-price-integration\\venv\\lib\\site-packages (from pandas) (2.9.0.post0)\n",
      "Collecting contourpy>=1.0.1\n",
      "  Using cached contourpy-1.2.1-cp39-cp39-win_amd64.whl (182 kB)\n",
      "Collecting fonttools>=4.22.0\n",
      "  Using cached fonttools-4.51.0-cp39-cp39-win_amd64.whl (2.2 MB)\n",
      "Collecting pillow>=8\n",
      "  Using cached pillow-10.3.0-cp39-cp39-win_amd64.whl (2.5 MB)\n",
      "Collecting importlib-resources>=3.2.0\n",
      "  Using cached importlib_resources-6.4.0-py3-none-any.whl (38 kB)\n",
      "Requirement already satisfied: packaging>=20.0 in c:\\users\\bageg\\desktop\\10 academy\\financial-news-and-stock-price-integration\\venv\\lib\\site-packages (from matplotlib) (24.0)\n",
      "Collecting kiwisolver>=1.3.1\n",
      "  Using cached kiwisolver-1.4.5-cp39-cp39-win_amd64.whl (56 kB)\n",
      "Collecting cycler>=0.10\n",
      "  Using cached cycler-0.12.1-py3-none-any.whl (8.3 kB)\n",
      "Collecting pyparsing>=2.3.1\n",
      "  Using cached pyparsing-3.1.2-py3-none-any.whl (103 kB)\n",
      "Requirement already satisfied: lxml>=4.9.1 in c:\\users\\bageg\\desktop\\10 academy\\financial-news-and-stock-price-integration\\venv\\lib\\site-packages (from yfinance) (5.2.1)\n",
      "Requirement already satisfied: beautifulsoup4>=4.11.1 in c:\\users\\bageg\\desktop\\10 academy\\financial-news-and-stock-price-integration\\venv\\lib\\site-packages (from yfinance) (4.12.3)\n",
      "Requirement already satisfied: peewee>=3.16.2 in c:\\users\\bageg\\desktop\\10 academy\\financial-news-and-stock-price-integration\\venv\\lib\\site-packages (from yfinance) (3.17.3)\n",
      "Requirement already satisfied: html5lib>=1.1 in c:\\users\\bageg\\desktop\\10 academy\\financial-news-and-stock-price-integration\\venv\\lib\\site-packages (from yfinance) (1.1)\n",
      "Requirement already satisfied: frozendict>=2.3.4 in c:\\users\\bageg\\desktop\\10 academy\\financial-news-and-stock-price-integration\\venv\\lib\\site-packages (from yfinance) (2.4.2)\n",
      "Requirement already satisfied: multitasking>=0.0.7 in c:\\users\\bageg\\desktop\\10 academy\\financial-news-and-stock-price-integration\\venv\\lib\\site-packages (from yfinance) (0.0.11)\n",
      "Requirement already satisfied: appdirs>=1.4.4 in c:\\users\\bageg\\desktop\\10 academy\\financial-news-and-stock-price-integration\\venv\\lib\\site-packages (from yfinance) (1.4.4)\n",
      "Requirement already satisfied: requests>=2.31 in c:\\users\\bageg\\desktop\\10 academy\\financial-news-and-stock-price-integration\\venv\\lib\\site-packages (from yfinance) (2.31.0)\n",
      "Requirement already satisfied: soupsieve>1.2 in c:\\users\\bageg\\desktop\\10 academy\\financial-news-and-stock-price-integration\\venv\\lib\\site-packages (from beautifulsoup4>=4.11.1->yfinance) (2.5)\n",
      "Requirement already satisfied: six>=1.9 in c:\\users\\bageg\\desktop\\10 academy\\financial-news-and-stock-price-integration\\venv\\lib\\site-packages (from html5lib>=1.1->yfinance) (1.16.0)\n",
      "Requirement already satisfied: webencodings in c:\\users\\bageg\\desktop\\10 academy\\financial-news-and-stock-price-integration\\venv\\lib\\site-packages (from html5lib>=1.1->yfinance) (0.5.1)\n",
      "Requirement already satisfied: zipp>=3.1.0 in c:\\users\\bageg\\desktop\\10 academy\\financial-news-and-stock-price-integration\\venv\\lib\\site-packages (from importlib-resources>=3.2.0->matplotlib) (3.18.1)\n",
      "Requirement already satisfied: charset-normalizer<4,>=2 in c:\\users\\bageg\\desktop\\10 academy\\financial-news-and-stock-price-integration\\venv\\lib\\site-packages (from requests>=2.31->yfinance) (3.3.2)\n",
      "Requirement already satisfied: urllib3<3,>=1.21.1 in c:\\users\\bageg\\desktop\\10 academy\\financial-news-and-stock-price-integration\\venv\\lib\\site-packages (from requests>=2.31->yfinance) (2.2.1)\n",
      "Requirement already satisfied: idna<4,>=2.5 in c:\\users\\bageg\\desktop\\10 academy\\financial-news-and-stock-price-integration\\venv\\lib\\site-packages (from requests>=2.31->yfinance) (3.7)\n",
      "Requirement already satisfied: certifi>=2017.4.17 in c:\\users\\bageg\\desktop\\10 academy\\financial-news-and-stock-price-integration\\venv\\lib\\site-packages (from requests>=2.31->yfinance) (2024.2.2)\n",
      "Installing collected packages: pyparsing, pillow, kiwisolver, importlib-resources, fonttools, cycler, contourpy, matplotlib\n",
      "Successfully installed contourpy-1.2.1 cycler-0.12.1 fonttools-4.51.0 importlib-resources-6.4.0 kiwisolver-1.4.5 matplotlib-3.8.4 pillow-10.3.0 pyparsing-3.1.2\n",
      "Note: you may need to restart the kernel to use updated packages.\n"
     ]
    },
    {
     "name": "stderr",
     "output_type": "stream",
     "text": [
      "WARNING: You are using pip version 22.0.4; however, version 24.0 is available.\n",
      "You should consider upgrading via the 'c:\\Users\\bageg\\Desktop\\10 Academy\\Financial-News-and-Stock-Price-Integration\\venv\\Scripts\\python.exe -m pip install --upgrade pip' command.\n"
     ]
    }
   ],
   "source": [
    "%pip install pandas matplotlib yfinance "
   ]
  },
  {
   "cell_type": "code",
   "execution_count": 8,
   "metadata": {},
   "outputs": [],
   "source": [
    "import yfinance as yf\n",
    "import pandas as pd\n",
    "import matplotlib.pyplot as plt\n",
    "from datetime import datetime\n"
   ]
  },
  {
   "cell_type": "code",
   "execution_count": 14,
   "metadata": {},
   "outputs": [],
   "source": [
    "data = pd.read_csv('raw_analyst_ratings.csv')\n",
    "\n",
    "# Convert the 'date' column to datetime format (assuming 'date' format is YYYY-MM-DD)\n",
    "data['date'] = pd.to_datetime(data['date'], format='ISO8601')\n",
    "\n",
    "# Calculate overall date range for all stocks\n",
    "min_date = data['date'].min()\n",
    "max_date = data['date'].max()"
   ]
  },
  {
   "cell_type": "code",
   "execution_count": 15,
   "metadata": {},
   "outputs": [
    {
     "name": "stderr",
     "output_type": "stream",
     "text": [
      "[                       1%%                      ]  69 of 6204 completedFailed to get ticker 'EMCF' reason: HTTPSConnectionPool(host='query2.finance.yahoo.com', port=443): Read timed out. (read timeout=10)\n",
      "[                       1%%                      ]  70 of 6204 completedFailed to get ticker 'CYN' reason: HTTPSConnectionPool(host='query2.finance.yahoo.com', port=443): Read timed out.\n",
      "[                       1%%                      ]  71 of 6204 completedFailed to get ticker 'COWN' reason: ('Connection aborted.', RemoteDisconnected('Remote end closed connection without response'))\n",
      "[                       1%%                      ]  86 of 6204 completedFailed to get ticker 'AVB' reason: HTTPSConnectionPool(host='query2.finance.yahoo.com', port=443): Read timed out. (read timeout=10)\n",
      "[                       1%%                      ]  90 of 6204 completedFailed to get ticker 'PGJ' reason: HTTPSConnectionPool(host='query2.finance.yahoo.com', port=443): Read timed out. (read timeout=10)\n",
      "Failed to get ticker 'TMH' reason: HTTPSConnectionPool(host='query2.finance.yahoo.com', port=443): Read timed out. (read timeout=10)\n",
      "[                       1%%                      ]  91 of 6204 completedFailed to get ticker 'CMU' reason: HTTPSConnectionPool(host='query2.finance.yahoo.com', port=443): Read timed out. (read timeout=10)\n",
      "[*                      2%%                      ]  94 of 6204 completedFailed to get ticker 'COOL' reason: HTTPSConnectionPool(host='query2.finance.yahoo.com', port=443): Read timed out. (read timeout=10)\n",
      "[*                      2%%                      ]  95 of 6204 completedFailed to get ticker 'BEE' reason: HTTPSConnectionPool(host='query2.finance.yahoo.com', port=443): Read timed out. (read timeout=10)\n",
      "Failed to get ticker 'VSR' reason: HTTPSConnectionPool(host='query2.finance.yahoo.com', port=443): Read timed out. (read timeout=10)\n",
      "[*                      2%%                      ]  97 of 6204 completedFailed to get ticker 'FLC' reason: HTTPSConnectionPool(host='query2.finance.yahoo.com', port=443): Read timed out. (read timeout=10)\n",
      "[*                      2%%                      ]  108 of 6204 completedFailed to get ticker 'MMS' reason: HTTPSConnectionPool(host='query2.finance.yahoo.com', port=443): Read timed out. (read timeout=10)\n",
      "[*                      2%%                      ]  111 of 6204 completedFailed to get ticker 'CRY' reason: HTTPSConnectionPool(host='guce.yahoo.com', port=443): Read timed out. (read timeout=30)\n",
      "[*                      2%%                      ]  112 of 6204 completedFailed to get ticker 'QTM' reason: ('Connection aborted.', RemoteDisconnected('Remote end closed connection without response'))\n",
      "[*                      2%%                      ]  115 of 6204 completedFailed to get ticker 'ISF' reason: ('Connection aborted.', RemoteDisconnected('Remote end closed connection without response'))\n",
      "[*                      2%%                      ]  123 of 6204 completedFailed to get ticker 'CTG' reason: HTTPSConnectionPool(host='query2.finance.yahoo.com', port=443): Read timed out. (read timeout=10)\n",
      "[*                      2%%                      ]  130 of 6204 completedFailed to get ticker 'FBP' reason: HTTPSConnectionPool(host='query2.finance.yahoo.com', port=443): Read timed out. (read timeout=10)\n",
      "[*                      2%%                      ]  131 of 6204 completedFailed to get ticker 'PVG' reason: HTTPSConnectionPool(host='query2.finance.yahoo.com', port=443): Read timed out. (read timeout=10)\n",
      "[*********************100%%**********************]  6204 of 6204 completed\n",
      "\n",
      "2309 Failed downloads:\n",
      "['MFSF', 'AUY', 'MOG.B', 'GDP', 'HSKA', 'HBK', 'TSS', 'CLVS', 'CRBQ', 'GNMK', 'TROV', 'XL', 'GLUU', 'RPRXZ', 'UPL', 'EROS', 'EMCF', 'CYN', 'COWN', 'FNSR', 'BITA', 'CUI', 'AVB', 'PGJ', 'TMH', 'CMU', 'COOL', 'BEE', 'VSR', 'FLC', 'MMS', 'CRY', 'QTM', 'ISF', 'IDXJ', 'ECA', 'SPKE', 'CTG', 'SIXD', 'FBP', 'PVG', 'CFRXW', 'PRAH', 'DISH', 'ONE', 'HIL', 'VICL', 'RENN', 'JOBS', 'FTT', 'AEY', 'ORPN', 'GWGH', 'ADES', 'RNET', 'BBX', 'TRXC', 'RUBI', 'JTA', 'RAVN', 'GZT', 'SGYPU', 'SFLY', 'THTI', 'PMBC', 'DGSE', 'BKEPP', 'KFH', 'BIOS', 'ADMS', 'TBAR', 'CLUB', 'LTS', 'FCE.A', 'CXO', 'UBP', 'GNCA', 'GOL', 'PFBI', 'SSI', 'WGP', 'AVOL', 'LMCK', 'XGTIW', 'EEI', 'MOG.A', 'CBM', 'ZSPH', 'SMED', 'TUES', 'EHIC', 'SGOC', 'FNJN', 'TRNX', 'OZRK', 'PETX', 'ZFGN', 'OCIR', 'IRDMZ', 'IPCI', 'CSOD', 'CHL', 'COUP', 'ANAC', 'ARNA', 'CTIB', 'OAK', 'CVTI', 'TECD', 'AXE', 'VSI', 'STAY', 'PTIE', 'MDP', 'SJR', 'NUVA', 'CRZO', 'EBIX', 'CARO', 'BFY', 'NLNK', 'MCV', 'HMLP', 'ECTE', 'BZC', 'AXAS', 'CTT', 'TEDU', 'CRCM', 'BGG', 'GER', 'LLNW', 'NRZ', 'MFL', 'GCVRZ', 'ELY', 'AVP', 'ISIG', 'TCBIP', 'LPI', 'INSY', 'PER', 'OFC', 'PACW', 'HK', 'EMES', 'THOR', 'ADMP', 'TLI', 'CEA', 'BABY', 'CSLT', 'REN', 'PRGX', 'WTR', 'JONE', 'MMP', 'SQBK', 'ROX', 'KNL', 'HMTV', 'ARRS', 'ACRX', 'SYX', 'INF', 'CYBE', 'HBMD', 'SEMG', 'SYNL', 'GLOG', 'CBLI', 'MIC', 'ACSF', 'AXU', 'AMAG', 'CELP', 'THRX', 'DKT', 'SCTY', 'CTWS', 'AYR', 'MTSL', 'ATVI', 'ALQA', 'MOC', 'HSGX', 'HIIQ', 'BDGE', 'NWHM', 'APC', 'BF.A', 'GSVC', 'WRE', 'CXDC', 'RE', 'ZEN', 'SMTX', 'LORL', 'CYOU', 'IVH', 'SNSS', 'BNCL', 'STL', 'PKD', 'NNC', 'VAR', 'NTRSP', 'INB', 'CFRXZ', 'NXTM', 'NGHCP', 'HMG', 'TSLF', 'SNR', 'SHOS', 'CMD', 'ALXN', 'GOMO', 'GWB', 'PRAN', 'TRCB', 'MEET', 'TGP', 'ATTU', 'GTXI', 'TRK', 'TBK', 'NM', 'ATAX', 'SPA', 'DISCK', 'DWTI', 'FSRV', 'ENT', 'HPT', 'HWCC', 'UEPS', 'ASCMA', 'MTSC', 'PRSC', 'WLL', 'FOMX', 'SKBI', 'ARTX', 'TDA', 'MANT', 'SRLP', 'BSTC', 'GG', 'BPI', 'VVUS', 'DNKN', 'JASN', 'OTIV', 'VRML', 'TPRE', 'RWLK', 'LMNX', 'SHLO', 'BIOC', 'LRAD', 'MOKO', 'CADC', 'CLCT', 'MTOR', 'INVT', 'BRXX', 'SAFM', 'WLH', 'HOS', 'HTF', 'PTX', 'BGCP', 'PIH', 'SKYS', 'STON', 'SUNS', 'EPZM', 'SINO', 'IEC', 'FLY', 'TI', 'TOWR', 'ORM', 'SORL', 'NYNY', 'CLR', 'RBS', 'DRNA', 'WLRHU', 'CCMP', 'GNC', 'SYMC', 'TRCH', 'USCR', 'HCHC', 'BBK', 'SBGL', 'IPHS', 'FGP', 'PPR', 'TFSCU', 'GPX', 'ZAGG', 'MYJ', 'GTT', 'ATRS', 'VRTU', 'CZZ', 'BRK.A', 'BKS', 'LJPC', 'BGCA', 'CHS', 'GAINO', 'XEC', 'VMW', 'CEL', 'AHC', 'NBL', 'PFSW', 'PFK', 'TCO', 'DPLO', 'GMZ', 'DNBF', 'FRAN', 'POPE', 'SFE', 'BQH', 'ABDC', 'JPS', 'PBR.A', 'CIDM', 'SDT', 'RDC', 'BCOR', 'CPAH', 'DISCA', 'PHII', 'BORN', 'GIG', 'SMACU', 'OBCI', 'BCOM', 'ALDR', 'CTRL', 'ADS', 'BFR', 'NSH', 'BXS', 'SSFN', 'WIN', 'BTN', 'MSG', 'ISNS', 'DCT', 'TEAR', 'MEN', 'OSN', 'MLHR', 'EGI', 'IMI', 'DRYS', 'SDR', 'SCU', 'WDTI', 'ELLI', 'CNBKA', 'LNDC', 'JRO', 'MKC.V', 'CHMT', 'KSU', 'PPHMP', 'HUB.A', 'VLTC', 'ENFC', 'STRN', 'YDLE', 'ENBL', 'CRAY', 'QUMU', 'ROLL', 'FBNK', 'WEBK', 'OHRP', 'RFP', 'HFC', 'TST', 'RDS.A', 'MXWL', 'GPM', 'VCF', 'CUR', 'TGE', 'TCFC', 'PCMI', 'WIFI', 'MTT', 'DRAD', 'WBK', 'CY', 'SMM', 'SPAR', 'PLT', 'GHL', 'SGYP', 'JMEI', 'TWTR', 'RCII', 'GFNCP', 'MGU', 'TRQ', 'RTEC', 'NIQ', 'HRS', 'CAJ', 'XENT', 'SWM', 'IIN', 'MES', 'CPHR', 'PLM', 'ATTO', 'TRIL', 'PICO', 'UWTI', 'SALT', 'HFBC', 'OXFD', 'BPFH', 'LLEX', 'SYKE', 'MINI', 'NGHC', 'PKI', 'MON', 'VRS', 'RUTH', 'NXTDW', 'GMO', 'GSB', 'TPLM', 'PME', 'NPTN', 'INS', 'WBAI', 'ICON', 'SJI', 'NYMTP', 'PEIX', 'BKK', 'CCCL', 'MLPL', 'MNK', 'PACD', 'FCAU', 'AFA', 'DRE', 'AGN', 'CBS.A', 'EIGI', 'ARCI', 'AMOV', 'CONE', 'FOE', 'ISBC', 'BT', 'PCTI', 'ESL', 'ROIQU', 'APF', 'HHC', 'ISLE', 'TLP', 'TAHO', 'JASO', 'TROVU', 'IDRA', 'EPE', 'KIN', 'FBHS', 'CBB', 'SPHS', 'VIAB', 'TESS', 'AQXP', 'CSS', 'JDD', 'MIE', 'TCP', 'CIR', 'NCB', 'BOCH', 'BBT', 'BVSN', 'NYMX', 'FLXN', 'RTRX', 'RPAI', 'CSFL', 'AETI', 'MSBF', 'AVH', 'HAWKB', 'EGOV', 'MFT', 'TSC', 'WBC', 'FHY', 'KRU', 'XLRN', 'CPTA', 'CORE', 'CLSN', 'UFS', 'CCC', 'LION', 'SNP', 'STMP', 'TNAV', 'ASFI', 'MBII', 'SSW', 'IRR', 'BMTC', 'ORBC', 'BSD', 'TA', 'ECOM', 'HT', 'BDR', 'SRT', 'VISN', 'BSE', 'GPIC', 'LXFT', 'CCV', 'WCG', 'PCOM', 'MNI', 'DEST', 'TTS', 'CGIX', 'ACHN', 'WMC', 'RTIX', 'RRD', 'CORR', 'SHLX', 'SXCP', 'JPP', 'WAGE', 'AKS', 'YUMA', 'BRG', 'MAMS', 'NHF', 'EMAN', 'VII', 'ATLS', 'CASM', 'RICE', 'CHSP', 'CBMG', 'AVEO', 'TIVO', 'NSEC', 'SREV', 'CYNI', 'CXP', 'IO', 'ETH', 'HABT', 'MYOS', 'SBBX', 'OAS', 'ATU', 'CUO', 'ATV', 'DISCB', 'CPL', 'HDS', 'LABL', 'SC', 'DF', 'BRKS', 'ACC', 'NID', 'CPST', 'EFF', 'HTBX', 'SINA', 'PKO', 'ECR', 'HBP', 'UMPQ', 'DXPS', 'NILE', 'VMM', 'GOODP', 'VSLR', 'CFX', 'CKH', 'IBKC', 'TAT', 'ZGNX', 'NNA', 'CALI', 'ITG', 'UMX', 'MSON', 'GLOP', 'MFNC', 'AHPI', 'SMK', 'CBDE', 'AKP', 'WSTG', 'FDEF', 'EWSS', 'IIVI', 'TSU', 'SRC', 'QVCB', 'CELGZ', 'WMGI', 'MLVF', 'GBL', 'SFS', 'VISI', 'GWR', 'AMCO', 'CETV', 'AFH', 'GFED', 'MNP', 'TTPH', 'SAEX', 'PBFX', 'CTL', 'PRCP', 'SIEN', 'SPRT', 'STAR', 'ROC', 'ADRA', 'JMP', 'PFNX', 'FB', 'WPX', 'OZM', 'HGSH', 'PSXP', 'ICPT', 'BNFT', 'DXKW', 'SNH', 'KMF', 'TMK', 'CYRN', 'DCIX', 'HRC', 'NVCN', 'DTV', 'AGC', 'NKY', 'REPH', 'ESTE', 'BLL', 'OMN', 'FCSC', 'AAC', 'QEP', 'CEMI', 'CO', 'AKRX', 'SRSC', 'RAD', 'FWP', 'IHC', 'ASNA', 'VIVO', 'CEO', 'RFT', 'ECT', 'GFY', 'HYGS', 'SHI', 'PFPT', 'GWPH', 'AST', 'TTM', 'BIF', 'CAS', 'TEN', 'FBC', 'BSMX', 'ULTI', 'TERP', 'PCI', 'LOGM', 'EVJ', 'KEG', 'BNSO', 'ANH', 'EYES', 'CTXS', 'PGNX', 'XIV', 'LPT', 'PHIIK', 'VRTB', 'GRIF', 'FLIR', 'MBFI', 'BPL', 'BRLI', 'TOO', 'CHA', 'BZM', 'AMBR', 'CBSHP', 'WDR', 'MSF', 'CZFC', 'BWC', 'NYV', 'HDRAU', 'MELR', 'RECN', 'ZAYO', 'BPFHW', 'GGOV', 'CRR', 'CYTR', 'SGEN', 'JTD', 'HMSY', 'MMAC', 'CVOL', 'NSL', 'DLPH', 'CLI', 'INAP', 'EBR.B', 'MDCO', 'ARQL', 'HTWO', 'PTNR', 'QEPM', 'NUAN', 'ISR', 'SEAS', 'GTS', 'IDTI', 'WFT', 'TKMR', 'BEL', 'TREC', 'HEB', 'MUS', 'NTP', 'MNE', 'NCR', 'ESBK', 'BBBY', 'ZIOP', 'GARS', 'UBSH', 'MDLY', 'CCXI', 'QTS', 'BPOPN', 'TAX', 'PTBI', 'MYL', 'ETM', 'LM', 'GALTU', 'FEO', 'SBRAP', 'FFG', 'HPJ', 'LCI', 'DDF', 'FFHL', 'MCC', 'FMBI', 'DSKX', 'GSH', 'BAS', 'LUB', 'PRTK', 'ROIQ', 'KONA', 'CDR', 'ATRM', 'AXX', 'CERN', 'ACH', 'FEYE', 'DVD', 'JW.A', 'HEP', 'NP', 'SGYPW', 'RNWK', 'HSC', 'AMRB', 'DATA', 'CLGX', 'OHAI', 'UBA', 'EQM', 'ERA', 'PES', 'STML', 'VG', 'LLL', 'TRMR', 'QEH', 'CATM', 'MLNX', 'CNTF', 'Y', 'HCCI', 'ZN', 'CEN', 'EXFO', 'ECOL', 'PBCT', 'MOBL', 'TGC', 'FSNN', 'CVA', 'IMMU', 'GRUB', 'BASI', 'GCAP', 'BSQR', 'MICT', 'DPM', 'HCAP', 'PZN', 'MNTA', 'AMOT', 'TROVW', 'PSTI', 'BKEP', 'PRTO', 'SYNC', 'ROSE', 'MONY', 'NKG', 'VRTV', 'AEGN', 'MBT', 'ABC', 'BBL', 'JCOM', 'RPT', 'FVE', 'REV', 'LHCG', 'MDCA', 'IMNP', 'SWIR', 'VTL', 'SIGM', 'ZU', 'MHE', 'NEWM', 'TCRD', 'LTXB', 'LTM', 'COT', 'MRLN', 'EEML', 'NAO', 'SAL', 'GHDX', 'UIHC', 'OPHT', 'EIV', 'LFC', 'LOV', 'WPG', 'YHOO', 'DPW', 'GMLP', 'BKJ', 'BRDR', 'ANAT', 'INXN', 'FBSS', 'AND', 'NMY', 'CBPX', 'PIR', 'MPO', 'MBTF', 'MNGA', 'MUH', 'STOR', 'MGLN', 'FRC', 'TNDQ', 'NTX', 'UNT', 'IKNX', 'PJC', 'SPEX', 'CYTX', 'CRD.A', 'DNR', 'RGDO', 'MXIM', 'NXR', 'BRSS', 'NXTD', 'SLCT', 'XON', 'UN', 'ZIONW', 'RPX', 'RP', 'NETE', 'ARDM', 'CEQP', 'ACY', 'BAF', 'MDSO', 'ARCW', 'DEX', 'LDL', 'CBPO', 'TCCA', 'AAWW', 'AFC', 'NES', 'SARA', 'ANTM', 'IVAN', 'USAK', 'EFII', 'BDCV', 'PE', 'PEGI', 'XGTI', 'AT', 'BREW', 'FNRG', 'EWHS', 'CHU', 'FCHI', 'LEVY', 'ATHX', 'OTEL', 'TIF', 'AMFW', 'ROIQW', 'CECE', 'OSIR', 'AKAO', 'CAP', 'ESV', 'RESN', 'NANO', 'KCAP', 'CS', 'WHZ', 'NATI', 'FSAM', 'SPPRO', 'CCX', 'MYF', 'ZIXI', 'ORIT', 'NXQ', 'LMRK', 'VGGL', 'PTR', 'RLH', 'AINV', 'DXB', 'RNN', 'FTD', 'AGTC', 'SCHN', 'OTIC', 'EGLT', 'TRCO', 'SGMS', 'OIIM', 'CCF', 'NAV', 'GIM', 'RGSE', 'CHFC', 'ORBK', 'MSP', 'MVC', 'SDLP', 'MCF', 'RST', 'FPRX', 'LEVYU', 'ZNGA', 'JMLP', 'BTX', 'KBSF', 'TOT', 'INWK', 'OPB', 'RVLT', 'HGH', 'CLD', 'ENVI', 'JCP', 'AKG', 'PEI', 'AVID', 'GPL', 'VBLT', 'NBO', 'LLDM', 'FRED', 'UCFC', 'ETFC', 'SZC', 'EDI', 'MTBC', 'AGNCB', 'HOTRW', 'CSII', 'DFRG', 'IID', 'DSE', 'BID', 'SGB', 'PDLI', 'EBSB', 'FTR', 'AGOL', 'ABB', 'AERI', 'JRJC', 'YRCW', 'NJV', 'CARB', 'NUO', 'TWMC', 'STFC', 'AREX', 'INFI', 'DVCR', 'USAT', 'IDSY', 'FNHC', 'ISCA', 'HTA', 'SFUN', 'ALSK', 'HNP', 'TYPE', 'CLNY', 'ALR', 'RXDX', 'RHT', 'RADA', 'FELP', 'PTLA', 'UBNK', 'RPRXW', 'ISG', 'IMDZ', 'TISA', 'EMCI', 'WAIR', 'SKIS', 'CAW', 'AKER', 'NLSN', 'MIK', 'HCAC', 'CMFN', 'ELGX', 'BRK.B', 'PBIP', 'AIMC', 'ATHN', 'GDAY', 'WUBA', 'CUB', 'CREE', 'JEC', 'OHGI', 'AVX', 'SXE', 'IDHB', 'BBF', 'NLS', 'VCRA', 'NTN', 'TIK', 'CBK', 'PNTR', 'HKOR', 'SQBG', 'IRL', 'BHBK', 'DUC', 'JCS', 'OMED', 'QADA', 'IVC', 'RLGY', 'LBY', 'IRDMB']: Exception('%ticker%: No timezone found, symbol may be delisted')\n",
      "['SNBC', 'ARCX', 'WWAV', 'IGTE', 'ONTY', 'JGW', 'OPXA', 'TSRE', 'AVNR', 'HVB', 'DTSI', 'VRNG', 'BLVD', 'NTLS', 'OREX', 'DEJ', 'HEOP', 'SZYM', 'MCOX', 'BOBE', 'AMRE', 'HTR', 'BLOX', 'LSG', 'CMSB', 'JPEP', 'EXAR', 'RBPAA', 'BLT', 'CGI', 'DEG', 'WLT', 'CHYR', 'IFT', 'CPGI', 'GNVC', 'DGI', 'WMLP', 'AUMAU', 'ADGE', 'IMPR', 'WFM', 'CBRX', 'MNRK', 'RDEN', 'OIBR', 'PSTB', 'RAI', 'TFM', 'RIT', 'SYMX', 'NPBC', 'MBVT', 'WNR', 'SUBK', 'TOF', 'EMXX', 'NVGN', 'EOX', 'PRLS', 'IXYS', 'EGT', 'CNCO', 'EOC', 'EPAX', 'MPEL', 'KYO', 'ANCI', 'HSOL', 'NBBC', 'ACAT', 'IILG', 'OME', 'FLTX', 'BBCN', 'ADHD', 'ETRM', 'LABC', 'CDI', 'HNSN', 'AAV', 'WMAR', 'PRGN', 'AXPW', 'DSKY', 'RAX', 'NRCIA', 'ISH', 'LEN.B', 'APAGF', 'VCO', 'SPW', 'CMN', 'LACO', 'PHMD', 'SLH', 'DSCO', 'KCG', 'SPPR', 'HKTV', 'MHR', 'GSI', 'HELI', 'NBTF', 'NPD', 'HTS', 'BBRY', 'MWE', 'EOPN', 'ONFC', 'CNIT', 'HLSS', 'ACAS', 'EGAS', 'TTHI', 'ENH', 'IKGH', 'ZX', 'NRX', 'RJET', 'CNDO', 'RVBD', 'DWA', 'BAGR', 'JAH', 'MELA', 'DOVR', 'ALTV', 'HTCH', 'SSLT', 'CVC', 'FCH', 'MCGC', 'APOL', 'AGII', 'BONE', 'DMND', 'SYRX', 'CPHD', 'SPLS', 'MW', 'EJ', 'PPS', 'ATML', 'NVSL', 'ZA', 'TLMR', 'SYA', 'DANG', 'LIOX', 'YGE', 'FNFG', 'CLNT', 'AMRI', 'ISIL', 'HCLP', 'WG', 'VDSI', 'BWINB', 'SNDK', 'QLTI', 'ZBB', 'IFMI', 'OKSB', 'CRRC', 'SLXP', 'GOV', 'RNF', 'MFRI', 'SSNI', 'UTIW', 'FSYS', 'FNFV', 'AUMA', 'FISH', 'CKP', 'IMS', 'SCAI', 'HNH', 'JOEZ', 'KNM', 'CLRX', 'YZC', 'OSHC', 'TPI', 'URZ', 'NFEC', 'YOKU', 'SBY', 'EXLP', 'FSL', 'CBIN', 'NBG', 'EDS', 'SPF', 'RPTP', 'TGD', 'BRCD', 'FULL', 'ETF', 'BIOA', 'CKSW', 'TESO', 'NSPH', 'HSP', 'WHX', 'EVRY', 'NCFT', 'WPCS', 'AMCC', 'EPRS', 'VSCI', 'ETAK', 'SGBK', 'WPT', 'EXAM', 'AOI', 'CVD', 'APPY', 'FRP', 'MJN', 'CSUN', 'BBG', 'ZQK', 'TYC', 'TEU', 'ENI', 'TCPI', 'ELX', 'CRV', 'QLGC', 'DAEG', 'WAC', 'CRME', 'MVG', 'NWY', 'SCLN', 'MSTX', 'NDRO', 'VNTV', 'PAF', 'UPIP', 'PENX', 'ASMI', 'FXCB', 'OMG', 'NKA', 'CH', 'ADVS', 'ABTL', 'IMN', 'PWE', 'SPP', 'CAFE', 'HWAY', 'SGNL', 'ERS', 'SFLA', 'PLCM', 'NBS', 'SUSQ', 'NGLS', 'BTUI', 'POT', 'WIBC', 'PAH', 'HILO', 'KROO', 'CYBX', 'BKYF', 'TLR', 'ALD', 'CHEV', 'RSTI', 'UCP', 'RSE', 'ENZY', 'ELOS', 'SIAL', 'COV', 'BONT', 'MOBI', 'AIRM', 'CCSC', 'LAS', 'LMIA', 'COSI', 'LPHI', 'RCPI', 'FXCM', 'ZFC', 'PEOP', 'DRWI', 'IKAN', 'TRW', 'JGBT', 'PULB', 'JNS', 'YOD', 'LOCK', 'OCLS', 'PMCS', 'SUNE', 'EMQ', 'WR', 'CODE', 'HGG', 'SBSA', 'EXA', 'CLMS', 'NCQ', 'GNI', 'AAVL', 'MEA', 'MTU', 'RTI', 'ANW', 'PBCP', 'WITE', 'FDI', 'WBMD', 'CRRS', 'IL', 'GGAC', 'ADNC', 'DBUK', 'PRB', 'SMTP', 'RRST', 'TXTR', 'OSGB', 'UACL', 'BVA', 'BLVDU', 'ATL', 'SKUL', 'FMER', 'FWV', 'HYH', 'GMCR', 'JDSU', 'IGU', 'NMBL', 'STCK', 'COH', 'BAA', 'BIOD', 'KEF', 'MCRL', 'CJES', 'MIFI', 'RWV', 'ICEL', 'PVTB', 'AFOP', 'GIMO', 'EBIO', 'BABS', 'MDD', 'ENL', 'SWHC', 'PCYC', 'AUQ', 'EDE', 'BOTA', 'SKH', 'JRN', 'ADAT', 'DATE', 'PBMD', 'ASBI', 'ESSX', 'GTWN', 'EMBB', 'LMCA', 'SNAK', 'HTWR', 'SNC', 'MSLI', 'AGU', 'MHGC', 'RSO', 'DBU', 'ALDW', 'CSJ', 'FES', 'MENT', 'GKNT', 'GDF', 'BKMU', 'LOOK', 'MGCD', 'DRC', 'VIAS', 'ININ', 'LDRH', 'RCPT', 'PCL', 'PSBH', 'MBLX', 'IACI', 'HPY', 'FONE', 'SLTC', 'QLIK', 'QKOR', 'ABCW', 'WGA', 'KBWC', 'CTNN', 'AV', 'CBF', 'OCR', 'RUK', 'LSC', 'RWC', 'NADL', 'GTU', 'PTP', 'FSBK', 'PLNR', 'MCP', 'FNBC', 'MDVN', 'PPP', 'KORS', 'SWY', 'GY', 'SAJA', 'TRR', 'TNGO', 'OCRX', 'HBHC', 'UDF', 'HME', 'DYAX', 'AMIC', 'FRS', 'XOVR', 'ARGS', 'ABCO', 'DCM', 'RGDX', 'ACXM', 'TVIZ', 'ASPX', 'MOLG', 'KHI', 'AHP', 'CLC', 'NPP', 'IM', 'CUNB', 'SSE', 'PNX', 'EQY', 'KKD', 'ANAD', 'ACG', 'BDE', 'IPK', 'GUID', 'RXII', 'STRZA', 'TEG', 'GFIG', 'COVR', 'QTWN', 'SAPE', 'ONP', 'KUTV', 'CLTX', 'BIN', 'VSCP', 'LEI', 'HGI', 'JGBD', 'CAB', 'VA', 'SGM', 'BWS', 'MILL', 'EXE', 'RTK', 'BSDM', 'CCXE', 'CAK', 'BOXC', 'AIXG', 'BDBD', 'AUXL', 'TTFS', 'MIL', 'MDGN', 'KBIO', 'TSO', 'DMD', 'PXR', 'HDY', 'RNDY', 'APSA', 'BHI', 'NTK', 'VTG', 'PLPM', 'SQNM', 'ACE', 'PRXI', 'KME', 'XNY', 'MGT', 'STO', 'NMO', 'WGBS', 'RIGP', 'CADT', 'REXI', 'JGBS', 'CMLP', 'DPRX', 'PVA', 'IBCA', 'CCCR', 'DCA', 'SIRO', 'PWX', 'NSAM', 'CIU', 'TLL', 'CRWN', 'VYFC', 'XRS', 'ZINC', 'WBIH', 'STS', 'NUTR', 'SYUT', 'CNW', 'TICC', 'ESYS', 'AEGR', 'TSRA', 'PAL', 'ITLT', 'NOR', 'DXJR', 'CIFC', 'SNTA', 'SSH', 'CNV', 'MTK', 'GAS', 'CAPN', 'QSII', 'CIMT', 'DSUM', 'ELNK', 'LNKD', 'FSGI', 'VTAE', 'RLOG', 'ICN', 'ATW', 'ARO', 'LNBB', 'CBST', 'LNCO', 'PARN', 'PGI', 'CMGE', 'PERM', 'NJ', 'CSC', 'MM', 'SSS', 'ABAC', 'TPUB', 'GST', 'CSRE', 'MYCC', 'IQNT', 'NTL', 'ATE', 'CKEC', 'DBMX', 'PLND', 'IVOP', 'UCD', 'ARPI', 'WPPGY', 'SCOK', 'PLMT', 'BNCN', 'ALLB', 'IND', 'LPTN', 'GBSN', 'WILN', 'RALY', 'CLY', 'SGY', 'SYRG', 'VSAR', 'IRE', 'GCA', 'YUME', 'PRXL', 'AVL', 'FRM', 'CBAK', 'IRF', 'AXN', 'SPAN', 'TRF', 'RVM', 'BF.B', 'TLLP', 'WSH', 'DWRE', 'EEHB', 'SQI', 'MEP', 'LVLT', 'XOOM', 'POWR', 'GMK', 'COB', 'ESBF', 'PSEM', 'MERU', 'PBIB', 'AQQ', 'OVTI', 'DSCI', 'JOY', 'AMSG', 'WLB', 'CWEI', 'ISSI', 'CISG', 'DGAS', 'RLOC', 'TLM', 'EXL', 'QTWW', 'HSNI', 'JGBL', 'NEOT', 'BUNT', 'AMTG', 'XRA', 'HCN', 'DARA', 'SGAR', 'PHF', 'ACMP', 'REMY', 'PMFG', 'RYL', 'AVG', 'TE', 'ABY', 'IBCC', 'MY', 'QIHU', 'CHOP', 'PSAU', 'PCLN', 'VTTI', 'CBMX', 'WFD', 'EPIQ', 'Q', 'ALXA', 'HCBK', 'NHTB', 'KFI', 'HGR', 'DOM', 'MTSN', 'JTP', 'MRVC', 'ANV', 'WYN', 'HBOS', 'IFON', 'FEIC', 'KITE', 'YDKN', 'DNO', 'OUTR', 'COVS', 'ZPIN', 'DTLK', 'GLDC', 'HBNK', 'UAM', 'CERU', 'ICI', 'TTF', 'UBIC', 'TWC', 'LLTC', 'NCIT', 'METR', 'HNT', 'PWRD', 'IRC', 'CGG', 'FAV', 'VIP', 'TRIV', 'MFRM', 'GLPW', 'BXE', 'FHCO', 'PQ', 'CFP', 'BWINA', 'ITR', 'ATNY', 'VTSS', 'BBRC', 'UBC', 'ADEP', 'STRZB', 'GRO', 'EMSA', 'CVSL', 'AMZG', 'MBRG', 'CFNL', 'ONNN', 'ROVI', 'BVX', 'FUEL', 'MRKT', 'TAOM', 'BIK', 'DEPO', 'AEPI', 'CACQ', 'YAO', 'EEME', 'TUBE', 'FCS', 'BCR', 'HFFC', 'HMPR', 'GTAA', 'CIE', 'HSEA', 'GEF.B', 'FSIC', 'GRH', 'VLCCF', 'SAAS', 'KCC', 'CLDN', 'BOFI', 'JYN', 'POZN', 'ACPW', 'HNR', 'LONG', 'AXLL', 'WRES', 'RBY', 'RIOM', 'ALJ', 'OKS', 'WSTC', 'SIMG', 'BUNL', 'ERB', 'AEC', 'REXX', 'XLS', 'DAKP', 'FAC', 'PTRY', 'SHOR', 'SSN', 'OAKS', 'ISIS', 'ICA', 'NTT', 'CRDS', 'BWLD', 'ABGB', 'LBIX', 'FDML', 'FORX', 'GAI', 'LMCB', 'HAR', 'MLPJ', 'CST', 'IPCM', 'BBNK', 'KFX', 'VOLC', 'EVAR', 'SFN', 'HGT', 'INPH', 'LINE', 'FSC', 'CBNJ', 'FPO', 'CFD', 'AF', 'NYLD', 'OWW', 'TAS', 'STNR', 'BRAQ', 'LIQD', 'TAXI', 'UTEK', 'DHRM', 'ARMH', 'GALE', 'JSC', 'DFT', 'AXJS', 'PPO', 'RCAP', 'CTCT', 'GMT', 'USBI', 'INVN', 'QLTC', 'CEMP', 'SCSS', 'TKAI', 'MCUR', 'MRH', 'LG', 'LOJN', 'HLS', 'MWIV', 'ZMH', 'CRDC', 'RBL', 'MDAS', 'PIP', 'PSDV', 'STJ', 'IOC', 'BONA', 'TRLA', 'NTI', 'HPTX', 'SFXE', 'QEM', 'INP', 'KONE', 'MSO', 'SSRG', 'FWM', 'TSYS', 'WAVX', 'WFBI', 'BRCM', 'MOCO', 'LXK', 'BSCG', 'RAS', 'DXM', 'KATE', 'MGN', 'CBR', 'LVNTA', 'UNXL', 'ACTS', 'ENOC', 'FLML', 'GGP', 'USMD', 'NPSP', 'GTIV', 'JST', 'CNYD', 'CAM', 'DDR', 'QUNR', 'OMAM', 'SLW', 'UNIS', 'OSM', 'LGF', 'MRD', 'EXXI', 'CMCSK', 'TASR', 'PETM', 'AFFX', 'MDSY', 'EVDY', 'ARIA', 'PPHM', 'TECU', 'CHLN', 'AOL', 'UHN', 'RLYP', 'HDRA', 'KYTH', 'USTR', 'BSFT', 'WNRL', 'HILL', 'ROIAK', 'ZLTQ', 'FMD', 'DRII', 'FCLF', 'XBKS', 'ORB', 'CLAC', 'XCO', 'RKUS', 'OPWR', 'KZ', 'UIL', 'SSRI', 'DRAM', 'MHFI', 'PDII', 'BIRT', 'APRI', 'IJNK', 'PSUN', 'BHL', 'LMOS', 'TFG', 'JAXB', 'PKY', 'FUR', 'LBMH', 'LBF', 'CFN', 'EVEP', 'ENRJ', 'SGNT', 'SUTR', 'COBK', 'RIVR', 'FDO', 'OGXI', 'TCK', 'MWV', 'ROKA', 'CNNX', 'ESR', 'PGN', 'CBG', 'JFC', 'DW', 'RLD', 'PNRA', 'ATK', 'HH', 'MPET', 'ETE', 'TRGT', 'PRY', 'ONVI', 'NMRX', 'NRF', 'IMRS', 'HW', 'CTRX', 'GBB', 'AMDA', 'SPNC', 'EVBS', 'LDR', 'MKTO', 'WTSL', 'QVCA', 'PLKI', 'SVLC', 'VMEM', 'RWXL', 'ELRC', 'BIND', 'QXUS', 'SPU', 'PCO', 'ABX', 'ITC', 'XUE', 'PMC', 'IPF', 'XXV', 'BAMM', 'QGBR']: Exception('%ticker%: No price data found, symbol may be delisted (1d 2009-02-14 00:00:00-04:00 -> 2020-06-11 17:12:35-04:00)')\n",
      "['IPW', 'GTI', 'AAN', 'PRE', 'CNDA', 'PSTR', 'RKT', 'PERF', 'MMV', 'STI', 'S', 'BBLU', 'REE', 'HRT', 'NU', 'MBLY', 'USG', 'IRET', 'BEAT', 'RTGN', 'RORO', 'ISRL', 'AIB', 'TCHI', 'SMRT', 'EV', 'IGLD', 'FISV', 'GLDX', 'BRAZ', 'NCI', 'SEV', 'GSC', 'QLTY', 'EFUT', 'SYT', 'OLO', 'RATE', 'NVX', 'CYT', 'BAM', 'DIVY', 'KOOL', 'RPRX', 'HF', 'EDR', 'LUX', 'KWT', 'MFI', 'GOODO', 'GPOR', 'INTL', 'MNR', 'CERE', 'EVLV', 'IMUC', 'COCO', 'GMM', 'NE', 'HCOM', 'EMCG', 'SNOW', 'EE', 'OILT', 'DO', 'IOT', 'AI', 'KEM', 'SN', 'GK', 'PBM', 'LRE', 'BMR', 'TDI', 'CHK', 'ARIS', 'TINY', 'DYN', 'DDC', 'BALT', 'XONE', 'NATL', 'POL', 'RNA', 'GRI', 'CSH', 'TIME', 'VAL', 'API', 'SHLD', 'PAY', 'SDRL', 'CRDT', 'TRTL', 'EAC', 'SMI', 'MLNK', 'AMPS', 'CRC', 'KNOW', 'CTV', 'STEM', 'DNB', 'OXLCO', 'HCP', 'AAMC', 'NVDQ', 'CRED', 'DV', 'CCG', 'JIVE', 'ARRY', 'SERV', 'ENGN', 'HTZ', 'ACT', 'OB', 'MORE', 'GDEF', 'BNJ', 'FRSH', 'TBIO', 'GGM', 'DBD', 'INFA', 'RENT', 'FIG', 'VIEW', 'CA', 'RESI', 'APP', 'TSL', 'SEMI', 'GSOL', 'SIFI', 'AVHI', 'AVIV', 'KTEC', 'GRAM', 'MAGS', 'MEG', 'CART', 'CR']: Exception(\"%ticker%: Data doesn't exist for startDate = 1234584000, endDate = 1591909955\")\n",
      "['VRNS']: ConnectionError(ProtocolError('Connection aborted.', RemoteDisconnected('Remote end closed connection without response')))\n",
      "['GEVA', 'CIA', 'ORN', 'YYY', 'OXBR', 'SCG', 'AMID', 'NKX']: ReadTimeout(ReadTimeoutError(\"HTTPSConnectionPool(host='query2.finance.yahoo.com', port=443): Read timed out. (read timeout=10)\"))\n",
      "['BRAF', 'QDEM', 'SIVB', 'ITLY', 'TLO', 'PDCE', 'HZNP', 'LLEM', 'AMRS', 'SFB', 'USMI', 'GURX', 'ONEF', 'PCYG', 'TDD', 'CHXF', 'ENDP', 'IPD', 'MVNR', 'KBAL', 'AZIA', 'ACCU', 'CHKE', 'SCPB', 'CACGU', 'LWC', 'OSTK', 'PXSC', 'CNCE', 'CXA', 'GMFS', 'PXMC', 'EVK', 'JUNR', 'QTNT', 'EWCS', 'GUR']: Exception(\"%ticker%: Period 'max' is invalid, must be one of ['1d', '5d']\")\n"
     ]
    }
   ],
   "source": [
    "symbols = list(data['stock'].unique())  # Get unique stock symbols\n",
    "\n",
    "# Download data for all symbols using the same date range\n",
    "data_yf = yf.download(symbols, start=min_date, end=max_date)\n"
   ]
  }
 ],
 "metadata": {
  "kernelspec": {
   "display_name": "venv",
   "language": "python",
   "name": "python3"
  },
  "language_info": {
   "codemirror_mode": {
    "name": "ipython",
    "version": 3
   },
   "file_extension": ".py",
   "mimetype": "text/x-python",
   "name": "python",
   "nbconvert_exporter": "python",
   "pygments_lexer": "ipython3",
   "version": "3.9.13"
  }
 },
 "nbformat": 4,
 "nbformat_minor": 2
}
